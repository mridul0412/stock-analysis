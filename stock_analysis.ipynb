{
 "cells": [
  {
   "cell_type": "code",
   "execution_count": 8,
   "metadata": {},
   "outputs": [],
   "source": [
    "from pandas_datareader import data\n",
    "import datetime\n",
    "from bokeh.plotting import figure,output_file,show\n",
    "from bokeh.embed import components\n",
    "from bokeh.resources import CDN\n",
    "\n",
    "\n",
    "start=datetime.datetime(2020,1,1)\n",
    "end=datetime.datetime(2020,3,31)\n",
    "\n",
    "df=data.DataReader(name=\"GOOG\",data_source=\"yahoo\",start=start,end=end)\n",
    "df\n",
    "\n",
    "def inc_dec(c,o):\n",
    "    if c > o:\n",
    "        value=\"Increase\"\n",
    "    elif c < o:\n",
    "        value=\"Decrease\"\n",
    "    else:\n",
    "        value=\"Equal\"\n",
    "    return value\n",
    "\n",
    "df[\"Status\"]=[inc_dec(c,o) for c,o in zip(df.Close,df.Open)]\n",
    "\n",
    "df[\"Middle\"]=(df.Open+df.Close)/2\n",
    "df[\"Height\"]=abs((df.Close-df.Open))\n",
    "df\n",
    "\n",
    "p=figure(x_axis_type=\"datetime\",width=1000,height=300)\n",
    "p.title.text=\"CandleStick Chart\"\n",
    "p.grid.grid_line_alpha=0.3\n",
    "\n",
    "hours_12=12*60*60*1000\n",
    "\n",
    "p.segment(df.index,df.High,df.index,df.Low,color=\"Black\")\n",
    "\n",
    "p.rect(df.index[df.Status==\"Increase\"],df.Middle[df.Status==\"Increase\"],hours_12,df.Height[df.Status==\"Increase\"],fill_color=\"#40ff00\",line_color=\"black\")\n",
    "\n",
    "p.rect(df.index[df.Status==\"Decrease\"],df.Middle[df.Status==\"Decrease\"],hours_12,df.Height[df.Status==\"Decrease\"],fill_color=\"#ff4d4d\",line_color=\"black\")\n",
    "\n",
    "script1,div1=components(p)\n",
    "cdn_js=CDN.js_files\n",
    "cdn_css=CDN.css_files\n",
    "\n",
    "\n",
    "\n",
    "output_file(\"CS.html\")\n",
    "show(p)"
   ]
  },
  {
   "cell_type": "code",
   "execution_count": 6,
   "metadata": {},
   "outputs": [
    {
     "data": {
      "text/plain": [
       "'https://cdn.bokeh.org/bokeh/release/bokeh-2.0.1.min.js'"
      ]
     },
     "execution_count": 6,
     "metadata": {},
     "output_type": "execute_result"
    }
   ],
   "source": [
    "cdn_js[0]"
   ]
  },
  {
   "cell_type": "code",
   "execution_count": 4,
   "metadata": {},
   "outputs": [
    {
     "ename": "IndexError",
     "evalue": "list index out of range",
     "output_type": "error",
     "traceback": [
      "\u001b[1;31m---------------------------------------------------------------------------\u001b[0m",
      "\u001b[1;31mIndexError\u001b[0m                                Traceback (most recent call last)",
      "\u001b[1;32m<ipython-input-4-bdc8189ea32c>\u001b[0m in \u001b[0;36m<module>\u001b[1;34m\u001b[0m\n\u001b[1;32m----> 1\u001b[1;33m \u001b[0mcdn_css\u001b[0m\u001b[1;33m[\u001b[0m\u001b[1;36m0\u001b[0m\u001b[1;33m]\u001b[0m\u001b[1;33m\u001b[0m\u001b[1;33m\u001b[0m\u001b[0m\n\u001b[0m",
      "\u001b[1;31mIndexError\u001b[0m: list index out of range"
     ]
    }
   ],
   "source": [
    "cdn_css[0]"
   ]
  },
  {
   "cell_type": "code",
   "execution_count": null,
   "metadata": {},
   "outputs": [],
   "source": []
  }
 ],
 "metadata": {
  "kernelspec": {
   "display_name": "Python 3",
   "language": "python",
   "name": "python3"
  },
  "language_info": {
   "codemirror_mode": {
    "name": "ipython",
    "version": 3
   },
   "file_extension": ".py",
   "mimetype": "text/x-python",
   "name": "python",
   "nbconvert_exporter": "python",
   "pygments_lexer": "ipython3",
   "version": "3.8.2"
  }
 },
 "nbformat": 4,
 "nbformat_minor": 4
}
